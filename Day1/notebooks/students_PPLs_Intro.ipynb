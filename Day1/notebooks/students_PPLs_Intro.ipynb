{
 "cells": [
  {
   "cell_type": "markdown",
   "metadata": {
    "colab_type": "text",
    "id": "view-in-github"
   },
   "source": [
    "<a href=\"https://colab.research.google.com/github/PGM-Lab/probai-2021-pyro/blob/main/Day1/notebooks/students_PPLs_Intro.ipynb\" target=\"_parent\"><img src=\"https://colab.research.google.com/assets/colab-badge.svg\" alt=\"Open In Colab\"/></a>"
   ]
  },
  {
   "cell_type": "code",
   "execution_count": 1,
   "metadata": {},
   "outputs": [],
   "source": [
    "# TO AVOID KERNEL DYING WHEN PLOTTING (THIS IS A WINDOWS PARTICULAR PROBLEM)\n",
    "import os\n",
    "os.environ[\"KMP_DUPLICATE_LIB_OK\"]=\"TRUE\""
   ]
  },
  {
   "cell_type": "markdown",
   "metadata": {
    "id": "a75mGrGgL-0g"
   },
   "source": [
    "<img src=\"https://github.com/PGM-Lab/probai-2021-pyro/blob/main/Day1/Figures/blue.png?raw=1\" alt=\"Drawing\" width=2000 height=20>\n",
    "\n",
    "\n",
    "# Setup\n",
    "Let's begin by installing and importing the modules we'll need."
   ]
  },
  {
   "cell_type": "code",
   "execution_count": 2,
   "metadata": {
    "id": "7Owp2eKrL-0j"
   },
   "outputs": [],
   "source": [
    "import pyro\n",
    "import torch\n",
    "import pyro.distributions as dist\n",
    "\n",
    "import numpy as np\n",
    "import scipy.stats as stats\n",
    "import matplotlib.pyplot as plt"
   ]
  },
  {
   "cell_type": "code",
   "execution_count": 3,
   "metadata": {},
   "outputs": [],
   "source": [
    "pyro.set_rng_seed(54321)"
   ]
  },
  {
   "cell_type": "markdown",
   "metadata": {
    "id": "I-EvHtlvL-0k"
   },
   "source": [
    "<img src=\"https://github.com/PGM-Lab/probai-2021-pyro/blob/main/Day1/Figures/blue.png?raw=1\" alt=\"Drawing\" width=2000 height=20>\n",
    "\n",
    "\n",
    "# 1. **Pyro’s distributions** (http://docs.pyro.ai/en/stable/distributions.html) :\n",
    "\n",
    "\n",
    "---\n",
    "* Pyro provides a wide range of distributions: **Normal, Beta, Cauchy, Dirichlet, Gumbel, Poisson, Pareto, etc.**\n",
    "\n",
    "---\n"
   ]
  },
  {
   "cell_type": "code",
   "execution_count": 4,
   "metadata": {
    "colab": {
     "base_uri": "https://localhost:8080/"
    },
    "id": "_w52OifSL-0l",
    "outputId": "aeffad3d-994f-4142-b4d2-6fbd633fdd78"
   },
   "outputs": [
    {
     "data": {
      "text/plain": [
       "Normal(loc: 0.0, scale: 1.0)"
      ]
     },
     "execution_count": 4,
     "metadata": {},
     "output_type": "execute_result"
    }
   ],
   "source": [
    "normal = dist.Normal(0,1)\n",
    "normal"
   ]
  },
  {
   "cell_type": "markdown",
   "metadata": {
    "id": "yOSdcF4_L-0m"
   },
   "source": [
    "\n",
    "<img src=\"https://github.com/PGM-Lab/probai-2021-pyro/blob/main/Day1/Figures/blue.png?raw=1\" alt=\"Drawing\" width=2000 height=20>\n",
    "\n",
    "---\n",
    "\n",
    "* Samples from the distributions are [Pytorch’s Tensor objects](https://pytorch.org/cppdocs/notes/tensor_creation.html) (i.e. multidimensional arrays).\n",
    "\n",
    "---\n"
   ]
  },
  {
   "cell_type": "code",
   "execution_count": 5,
   "metadata": {
    "colab": {
     "base_uri": "https://localhost:8080/"
    },
    "id": "wloQxYMXL-0m",
    "outputId": "6db4407c-f91c-4096-fbdf-e1b764900e07"
   },
   "outputs": [
    {
     "data": {
      "text/plain": [
       "tensor(1.2985)"
      ]
     },
     "execution_count": 5,
     "metadata": {},
     "output_type": "execute_result"
    }
   ],
   "source": [
    "sample = normal.sample()\n",
    "sample"
   ]
  },
  {
   "cell_type": "code",
   "execution_count": 6,
   "metadata": {
    "colab": {
     "base_uri": "https://localhost:8080/"
    },
    "id": "2h2iOp-qL-0o",
    "outputId": "c653e9d1-7591-49ec-f493-afc2fc9f5a78"
   },
   "outputs": [
    {
     "data": {
      "text/plain": [
       "tensor([[[ 1.3817,  0.2901,  0.2039,  0.3566,  0.0718],\n",
       "         [ 1.3118,  1.7772, -2.3350, -0.7147, -0.0890],\n",
       "         [ 0.0943,  0.1565,  0.1327,  0.1029, -0.7578],\n",
       "         [-0.8876, -1.9020,  1.0773,  0.8818,  1.1350]],\n",
       "\n",
       "        [[-1.6388,  0.3047, -1.6548,  0.5395, -0.1161],\n",
       "         [ 0.9802,  1.0666, -1.0025, -1.1953,  0.9164],\n",
       "         [ 0.5790,  1.1531,  0.1992, -0.1125, -0.0122],\n",
       "         [ 1.3886,  0.6613,  0.9493,  1.6604,  1.1526]],\n",
       "\n",
       "        [[ 0.8295,  0.0373,  0.5971, -0.3813,  1.0189],\n",
       "         [ 0.2999,  1.9245,  0.9334,  0.9733, -2.3288],\n",
       "         [ 0.4354, -0.5345, -0.4033, -1.7434,  0.3953],\n",
       "         [ 0.9475, -1.5764, -0.2744,  0.5723, -0.6118]]])"
      ]
     },
     "execution_count": 6,
     "metadata": {},
     "output_type": "execute_result"
    }
   ],
   "source": [
    "sample = normal.sample(sample_shape=[3,4,5])\n",
    "sample"
   ]
  },
  {
   "cell_type": "markdown",
   "metadata": {
    "id": "r-0pNd9tL-0o"
   },
   "source": [
    "<img src=\"https://github.com/PGM-Lab/probai-2021-pyro/blob/main/Day1/Figures/blue.png?raw=1\" alt=\"Drawing\" width=2000 height=20>\n",
    "\n",
    "---\n",
    "* We can query the **dimensionlity** of a tensor with the ``shape`` property\n",
    "\n",
    "---"
   ]
  },
  {
   "cell_type": "code",
   "execution_count": 7,
   "metadata": {
    "colab": {
     "base_uri": "https://localhost:8080/"
    },
    "id": "Dk2ebGoYL-0p",
    "outputId": "8f6e9d2a-d1c5-4844-80d4-c5d7a76e969c"
   },
   "outputs": [
    {
     "data": {
      "text/plain": [
       "torch.Size([3, 4, 5])"
      ]
     },
     "execution_count": 7,
     "metadata": {},
     "output_type": "execute_result"
    }
   ],
   "source": [
    "sample = normal.sample(sample_shape=[3,4,5])\n",
    "sample.shape"
   ]
  },
  {
   "cell_type": "markdown",
   "metadata": {
    "id": "DsVjombqL-0p"
   },
   "source": [
    "\n",
    "<img src=\"https://github.com/PGM-Lab/probai-2021-pyro/blob/main/Day1/Figures/blue.png?raw=1\" alt=\"Drawing\" width=2000 height=20>\n",
    "\n",
    "\n",
    "---\n",
    "* Operations, like **log-likelihood**, are defined over tensors.\n",
    "\n",
    "---\n",
    "\n"
   ]
  },
  {
   "cell_type": "code",
   "execution_count": 8,
   "metadata": {
    "colab": {
     "base_uri": "https://localhost:8080/"
    },
    "id": "06G293JdL-0p",
    "outputId": "2c3a86a4-d687-4d5f-bee7-b8ca3977994d"
   },
   "outputs": [
    {
     "data": {
      "text/plain": [
       "tensor([[[-1.5462, -1.3968, -0.9997, -1.0329, -1.2141],\n",
       "         [-2.1080, -1.1056, -0.9544, -0.9655, -0.9196],\n",
       "         [-0.9220, -1.7991, -1.4268, -1.5426, -0.9406],\n",
       "         [-1.1145, -1.3309, -1.3404, -0.9592, -2.1837]],\n",
       "\n",
       "        [[-1.2170, -0.9463, -2.2960, -3.4794, -2.2775],\n",
       "         [-1.2553, -0.9337, -2.0889, -1.8116, -1.1554],\n",
       "         [-1.8947, -1.0433, -2.0099, -1.1567, -3.1820],\n",
       "         [-0.9303, -0.9457, -1.8317, -0.9589, -0.9381]],\n",
       "\n",
       "        [[-1.3324, -2.8336, -2.1922, -1.6225, -1.2582],\n",
       "         [-1.1087, -1.0353, -1.0933, -0.9200, -1.3021],\n",
       "         [-0.9691, -1.1069, -0.9351, -1.3803, -0.9221],\n",
       "         [-0.9473, -1.1623, -0.9217, -1.1652, -0.9524]]])"
      ]
     },
     "execution_count": 8,
     "metadata": {},
     "output_type": "execute_result"
    }
   ],
   "source": [
    "normal.log_prob(sample)"
   ]
  },
  {
   "cell_type": "code",
   "execution_count": 9,
   "metadata": {
    "colab": {
     "base_uri": "https://localhost:8080/"
    },
    "id": "R3v2rpRAL-0q",
    "outputId": "a4ef0280-b623-40c3-f9ba-0cabc25d253f"
   },
   "outputs": [
    {
     "data": {
      "text/plain": [
       "tensor(-83.3157)"
      ]
     },
     "execution_count": 9,
     "metadata": {},
     "output_type": "execute_result"
    }
   ],
   "source": [
    "torch.sum(normal.log_prob(sample))"
   ]
  },
  {
   "cell_type": "markdown",
   "metadata": {
    "id": "zErtSTzYL-0q"
   },
   "source": [
    "<img src=\"https://github.com/PGM-Lab/probai-2021-pyro/blob/main/Day1/Figures/blue.png?raw=1\" alt=\"Drawing\" width=2000 height=20>\n",
    "\n",
    "---\n",
    "\n",
    "* **Multiple distributions** can be embedded in single object.\n",
    "\n",
    "* Below we define **three Normal distributions with different means but the same scale** in a single object.\n",
    "\n",
    "---"
   ]
  },
  {
   "cell_type": "code",
   "execution_count": 10,
   "metadata": {
    "colab": {
     "base_uri": "https://localhost:8080/"
    },
    "id": "VEcgGuTqL-0q",
    "outputId": "3089e379-80c2-4005-afae-a4b0d443842d"
   },
   "outputs": [
    {
     "data": {
      "text/plain": [
       "Normal(loc: torch.Size([3]), scale: torch.Size([3]))"
      ]
     },
     "execution_count": 10,
     "metadata": {},
     "output_type": "execute_result"
    }
   ],
   "source": [
    "normal = dist.Normal(torch.tensor([1.,2.,3.]),1.)\n",
    "normal"
   ]
  },
  {
   "cell_type": "code",
   "execution_count": 11,
   "metadata": {
    "colab": {
     "base_uri": "https://localhost:8080/"
    },
    "id": "1cRRDgTbL-0r",
    "outputId": "74c26db3-fff8-4a2f-b403-4f6958af1af2"
   },
   "outputs": [
    {
     "data": {
      "text/plain": [
       "tensor([1.3362, 3.0017, 3.7343])"
      ]
     },
     "execution_count": 11,
     "metadata": {},
     "output_type": "execute_result"
    }
   ],
   "source": [
    "normal.sample()"
   ]
  },
  {
   "cell_type": "code",
   "execution_count": 12,
   "metadata": {
    "colab": {
     "base_uri": "https://localhost:8080/"
    },
    "id": "hji5mTnhL-0r",
    "outputId": "ebd68b3d-49d5-4ea4-d793-3676b50f8a6f"
   },
   "outputs": [
    {
     "data": {
      "text/plain": [
       "tensor([-2.2011, -0.9275, -1.1548])"
      ]
     },
     "execution_count": 12,
     "metadata": {},
     "output_type": "execute_result"
    }
   ],
   "source": [
    "normal.log_prob(normal.sample())"
   ]
  },
  {
   "cell_type": "markdown",
   "metadata": {
    "id": "drChKHsWJ--U"
   },
   "source": [
    "<img src=\"https://github.com/PGM-Lab/probai-2021-pyro/blob/main/Day1/Figures/blue.png?raw=1\" alt=\"Drawing\" width=2000 height=20>"
   ]
  },
  {
   "cell_type": "markdown",
   "metadata": {
    "id": "T7drVBrtzNgC"
   },
   "source": [
    "### **<span style=\"color:red\">Exercise: Open the notebook and play around</span>**\n",
    "\n",
    "* Test that everything works.\n",
    "* Play a bit with the code in Section 1 of the notebook.\n",
    "\n",
    "<img src=\"https://github.com/PGM-Lab/probai-2021-pyro/blob/main/Day1/Figures/blue.png?raw=1\" alt=\"Drawing\" width=2000 height=20>"
   ]
  },
  {
   "cell_type": "markdown",
   "metadata": {
    "id": "WV-iBl4xL-0r"
   },
   "source": [
    "# 2. **Pyro’s models** (http://pyro.ai/examples/intro_part_i.html) :\n",
    "\n",
    "---\n",
    "* In Pyro, a probabilistic model is defined as a **stochastic function** (i.e. every time it is run, it returns a new sample).\n",
    "\n",
    "* Each random variable is associated with a **primitive stochastic function** using the construct ``pyro.sample(...)``.\n",
    "---\n",
    "\n",
    "\n",
    "### 2.1 A Temperature Model\n",
    "\n",
    "\n",
    "\n",
    "As initial running example, we consider the problem of **modelling the temperature**. We first start with a simple model where temperture is modeled using a random Normal variable."
   ]
  },
  {
   "cell_type": "code",
   "execution_count": 13,
   "metadata": {
    "colab": {
     "base_uri": "https://localhost:8080/"
    },
    "id": "kcU2EmBYL-0s",
    "outputId": "6a7c377c-37ea-4c75-862f-619ca5928619"
   },
   "outputs": [
    {
     "name": "stdout",
     "output_type": "stream",
     "text": [
      "tensor(16.2619)\n",
      "tensor(14.6151)\n"
     ]
    }
   ],
   "source": [
    "# the function `model` is a stochastic function (its returned value is non-deterministic)\n",
    "# `temp` is a primitive stochastic function (uses pyro.sample)\n",
    "def model():\n",
    "    # `temp` is a tensor whose value is a random sample\n",
    "    # from a Normal(15.0, 2.0) distribution\n",
    "    temp = pyro.sample('temp', dist.Normal(15.0, 2.0))\n",
    "    return temp\n",
    "\n",
    "print(model())\n",
    "print(model())"
   ]
  },
  {
   "cell_type": "markdown",
   "metadata": {
    "id": "N0pVeOVpL-0s"
   },
   "source": [
    "See how the model is a stochastic function which **returns a different value everytime it is invoked**. \n",
    "\n",
    "<img src=\"https://github.com/PGM-Lab/probai-2021-pyro/blob/main/Day1/Figures/blue.png?raw=1\" alt=\"Drawing\" width=2000 height=20>\n"
   ]
  },
  {
   "cell_type": "markdown",
   "metadata": {
    "id": "Z0biYXEVL-0s"
   },
   "source": [
    "### 2.2 A Temperature-Sensor Model"
   ]
  },
  {
   "cell_type": "markdown",
   "metadata": {
    "id": "Jp6wefVaLCnx"
   },
   "source": [
    "---\n",
    "* In Pyro, a stochastic method is defined as a **composition of primitive stochastic functions**.\n",
    "* The temperature Model: we consider the presence of a **temperature sensor**. \n",
    "  * The temperature sensor gives **noisy observations** about the real temperature.\n",
    "  * The **error** of the sensor's measurements **is known**.\n",
    "  * A graphical representation of this model:\n",
    "\n",
    "<center>\n",
    "<img src=\"https://github.com/PGM-Lab/probai-2021-pyro/blob/main/Day1/Figures/PGM-Tem-Sensor.png?raw=1\" alt=\"Drawing\" width=\"150\">\n",
    "</center>\n",
    "---\n"
   ]
  },
  {
   "cell_type": "code",
   "execution_count": 14,
   "metadata": {
    "colab": {
     "base_uri": "https://localhost:8080/"
    },
    "id": "VpxheEx-L-0t",
    "outputId": "f02dab39-d93d-4fe7-ca69-7d18069f7a72"
   },
   "outputs": [
    {
     "data": {
      "text/plain": [
       "(tensor(19.9873), tensor(19.0439))"
      ]
     },
     "execution_count": 14,
     "metadata": {},
     "output_type": "execute_result"
    }
   ],
   "source": [
    "# Again `model` is a stochastic function\n",
    "# `temp` a primitive stochastic function\n",
    "# `sensor` is a stochastic method (composition of primitive stochastic functions)\n",
    "def model():\n",
    "    temp = pyro.sample('temp', dist.Normal(15.0, 2.0))\n",
    "    sensor = pyro.sample('sensor', dist.Normal(temp, 1.0))\n",
    "    return (temp, sensor)\n",
    "\n",
    "out1 = model()\n",
    "out1"
   ]
  },
  {
   "cell_type": "markdown",
   "metadata": {
    "id": "XSXTeNtqL-0t"
   },
   "source": [
    "---\n",
    "* The above method defines a joint probability distribution:\n",
    "$$p(sensor, temp) = p(sensor|temp)p(temp)$$\n",
    "\n",
    "\n",
    "\n",
    "\n",
    "* In this case, we have a simple dependency between the variables. But, as we are in a PPL, dependencies can be expressed in terms of complex deterministic functions (more examples later).\n",
    "\n",
    "---\n",
    "\n",
    "<img src=\"https://github.com/PGM-Lab/probai-2021-pyro/blob/main/Day1/Figures/blue.png?raw=1\" alt=\"Drawing\" width=2000 height=20>\n"
   ]
  },
  {
   "cell_type": "markdown",
   "metadata": {
    "id": "CCayVyTsL-0t"
   },
   "source": [
    "# 3. **Pyro’s inference** (http://pyro.ai/examples/intro_part_ii.html) :"
   ]
  },
  {
   "cell_type": "markdown",
   "metadata": {
    "id": "QyC3v0cyL-0u"
   },
   "source": [
    "### Auxiliary inference functions (more details on Day 3)\n",
    "\n",
    "To make inference on Pyro, we will use a **variational inference** method, which performs gradient-based optimization to solve the inference problem. More details will be given on Day 3. "
   ]
  },
  {
   "cell_type": "code",
   "execution_count": 15,
   "metadata": {
    "id": "arZOTC7gL-0u"
   },
   "outputs": [],
   "source": [
    "from torch.distributions import constraints\n",
    "from pyro.optim import SGD\n",
    "from pyro.infer import Trace_ELBO\n",
    "import matplotlib.pyplot as plt\n",
    "from pyro.contrib.autoguide import AutoDiagonalNormal\n",
    "\n",
    "# Notice that there's no return statement\n",
    "def svi(temperature_model, guide, obs, num_steps = 5000, plot = False):\n",
    "    pyro.clear_param_store()\n",
    "    svi = pyro.infer.SVI(model = temperature_model,\n",
    "                         guide = guide,\n",
    "                         optim = SGD({\"lr\": 0.001, \"momentum\":0.1}),\n",
    "                         loss = Trace_ELBO())\n",
    "\n",
    "    losses, a,b  = [], [], []\n",
    "    \n",
    "    for t in range(num_steps):\n",
    "        losses.append(svi.step(obs))\n",
    "        if t % 250 == 0:\n",
    "            print('Step: ' + str(t) + '. Loss: ' + str(losses[-1]))\n",
    "            \n",
    "\n",
    "    if (plot):\n",
    "        plt.plot(losses)\n",
    "        plt.title(\"ELBO\")\n",
    "        plt.xlabel(\"step\")\n",
    "        plt.ylabel(\"loss\");\n",
    "        plt.show()"
   ]
  },
  {
   "cell_type": "markdown",
   "metadata": {
    "id": "ovLJGQtcPlBt"
   },
   "source": [
    "---\n",
    "* To make inference in Pyro over a given model we need to define a **guide**, this **guide** has the **same signature** than its counterpart model. \n",
    "\n",
    "* The guide must provide **samples for those variables of the model which are not observed** using again the ``pyro.sample`` construct. \n",
    "\n",
    "* Guides are also parametrized using Pyro's parameters (``pyro.param``), so the variational inference algorithm will optimize these parameters. \n",
    "\n",
    "* All of that will be explained in detail on Day 3.\n",
    "\n",
    "---"
   ]
  },
  {
   "cell_type": "code",
   "execution_count": 16,
   "metadata": {
    "id": "ubF0fUp8PlB-"
   },
   "outputs": [],
   "source": [
    "#The guide (NOTICE THAT THERE'S NO RETURN STATEMENT)\n",
    "def guide(obs):\n",
    "    a = pyro.param(\"mean\", torch.tensor(0.0))\n",
    "    b = pyro.param(\"scale\", torch.tensor(1.), constraint=constraints.positive)\n",
    "    #This represents a parametrized version of the posterior distribution for `temp`\n",
    "    # `a` and `b` are learnable parameters\n",
    "    temp = pyro.sample('temp', dist.Normal(a, b))"
   ]
  },
  {
   "cell_type": "markdown",
   "metadata": {
    "id": "FhjFntF7Ts40"
   },
   "source": [
    "<img src=\"https://github.com/PGM-Lab/probai-2021-pyro/blob/main/Day1/Figures/blue.png?raw=1\" alt=\"Drawing\" width=2000 height=20>\n"
   ]
  },
  {
   "cell_type": "markdown",
   "metadata": {
    "id": "mkkHJOFBL-0u"
   },
   "source": [
    "<img src=\"https://github.com/PGM-Lab/probai-2021-pyro/blob/main/Day1/Figures/blue.png?raw=1\" alt=\"Drawing\" width=2000 height=20>\n",
    "\n",
    "### 3.1  Conditioning on a single observation\n",
    "\n",
    "Now, we continue with the last model defined in section 2.2, and assume we have a sensor reading and we want to compute the **posterior distribution** over the real temperature. \n",
    "<center>\n",
    "<img src=\"https://github.com/PGM-Lab/probai-2021-pyro/blob/main/Day1/Figures/PGM-Tem-Sensor.png?raw=1\" alt=\"Drawing\" width=\"150\">\n",
    "</center>\n",
    "\n",
    "---\n",
    "* This can be achived by introducing **observations in the random variable** with the keyword ``obs=``.\n",
    "\n",
    "---"
   ]
  },
  {
   "cell_type": "code",
   "execution_count": 17,
   "metadata": {
    "id": "TSzNRm7wL-0v"
   },
   "outputs": [],
   "source": [
    "#The observatons   \n",
    "obs = {'sensor': torch.tensor(18.0)}\n",
    "\n",
    "# Notice that `model` and `guide` have the same signature specified in the above paragraph.\n",
    "# `model` has not return statement\n",
    "def model(obs):\n",
    "    # For `temp`, notice the match of the name in the guide and the model\n",
    "    # Here `temp` represents a relization from the prior distribution of the temperature\n",
    "    temp = pyro.sample('temp', dist.Normal(15.0, 2.0))\n",
    "    sensor = pyro.sample('sensor', dist.Normal(temp, 1.0), obs = obs['sensor'])"
   ]
  },
  {
   "cell_type": "markdown",
   "metadata": {
    "id": "nH3PgF4wL-0w"
   },
   "source": [
    "<img src=\"https://github.com/PGM-Lab/probai-2021-pyro/blob/main/Day1/Figures/blue.png?raw=1\" alt=\"Drawing\" width=2000 height=20>\n",
    "\n",
    "\n",
    "---\n",
    "* Inference is made using the previously defined auxiliary functions, ``svi`` and ``guide``. \n",
    "\n",
    "* We can query the **posterior probability distribution**: \n",
    "\n",
    "\n",
    "$$p(temp | sensor=18)=\\frac{p(sensor=18|temp)p(temp)}{\\int p(sensor=18|temp)p(temp) dtemp}$$\n",
    "\n",
    "---"
   ]
  },
  {
   "cell_type": "code",
   "execution_count": 18,
   "metadata": {
    "colab": {
     "base_uri": "https://localhost:8080/",
     "height": 717
    },
    "id": "VObMyZQ_L-0w",
    "outputId": "bb273c4a-01e5-4e35-ed9f-7a8ae9b76a90"
   },
   "outputs": [
    {
     "name": "stdout",
     "output_type": "stream",
     "text": [
      "Step: 0. Loss: 238.07669878005981\n",
      "Step: 250. Loss: 115.40528988838196\n",
      "Step: 500. Loss: 57.74627113342285\n",
      "Step: 750. Loss: 34.10185730457306\n",
      "Step: 1000. Loss: 10.580311059951782\n",
      "Step: 1250. Loss: 11.710634589195251\n",
      "Step: 1500. Loss: 8.654770731925964\n",
      "Step: 1750. Loss: 3.545927047729492\n",
      "Step: 2000. Loss: 2.1728129386901855\n",
      "Step: 2250. Loss: 1.545773983001709\n",
      "Step: 2500. Loss: 2.743692457675934\n",
      "Step: 2750. Loss: 2.7941551208496094\n",
      "Step: 3000. Loss: 2.96124267578125\n",
      "Step: 3250. Loss: 2.6138097047805786\n",
      "Step: 3500. Loss: 2.465648829936981\n",
      "Step: 3750. Loss: 2.2760543823242188\n",
      "Step: 4000. Loss: 2.637632191181183\n",
      "Step: 4250. Loss: 2.6617144346237183\n",
      "Step: 4500. Loss: 2.6444360613822937\n",
      "Step: 4750. Loss: 2.625415802001953\n"
     ]
    },
    {
     "data": {
      "image/png": "[encoded data removed]",
      "text/plain": [
       "<Figure size 432x288 with 1 Axes>"
      ]
     },
     "metadata": {
      "needs_background": "light"
     },
     "output_type": "display_data"
    },
    {
     "name": "stdout",
     "output_type": "stream",
     "text": [
      "P(Temperature|Sensor=18.0) = \n",
      "Normal(loc: 17.439010620117188, scale: 0.8939886093139648)\n",
      "\n"
     ]
    }
   ],
   "source": [
    "#Run inference\n",
    "svi(model, guide, obs, plot=True)\n",
    "\n",
    "#Print results\n",
    "print(\"P(Temperature|Sensor=18.0) = \")\n",
    "print(dist.Normal(pyro.param(\"mean\").item(), pyro.param(\"scale\").item()))\n",
    "print(\"\")"
   ]
  },
  {
   "cell_type": "markdown",
   "metadata": {
    "id": "ZglqMEmSL-0w"
   },
   "source": [
    "---\n",
    "* Inference is an **optimization procedure**. \n",
    "\n",
    "* The **ELBO function is minimized** during the variational inference process.\n",
    "\n",
    "---\n",
    "\n",
    "<img src=\"https://github.com/PGM-Lab/probai-2021-pyro/blob/main/Day1/Figures/blue.png?raw=1\" alt=\"Drawing\" width=2000 height=20>\n"
   ]
  },
  {
   "cell_type": "markdown",
   "metadata": {
    "id": "WAbW6UoTL-0x"
   },
   "source": [
    "### 3.2  Learning from a bunch of observations\n",
    "\n",
    "---\n",
    "* Let us assume we have a **set of observations** about the temperature at different time steps. \n",
    "\n",
    "* In this case, and following a probabilistic modelling approach, we define a **set of random variables**.\n",
    "\n",
    "* One random variable for each **observation**, using a standard ``for-loop``.\n",
    "\n",
    "---"
   ]
  },
  {
   "cell_type": "code",
   "execution_count": 19,
   "metadata": {
    "id": "w2bPy-D4L-0x"
   },
   "outputs": [],
   "source": [
    "#The observatons   \n",
    "obs = {'sensor': torch.tensor([18., 18.7, 19.2, 17.8, 20.3, 22.4, 20.3, 21.2, 19.5, 20.1])}\n",
    "\n",
    "def model(obs):\n",
    "    for i in range(obs['sensor'].shape[0]):\n",
    "        temp = pyro.sample(f'temp_{i}', dist.Normal(15.0, 2.0))\n",
    "        sensor = pyro.sample(f'sensor_{i}', dist.Normal(temp, 1.0), obs=obs['sensor'][i])"
   ]
  },
  {
   "cell_type": "markdown",
   "metadata": {
    "id": "fjcPTM1PL-0x"
   },
   "source": [
    "\n",
    "<img src=\"https://github.com/PGM-Lab/probai-2021-pyro/blob/main/Day1/Figures/blue.png?raw=1\" alt=\"Drawing\" width=2000 height=20>\n",
    "\n",
    "---\n",
    "\n",
    "* What if we do **not know the mean temperature**. \n",
    "\n",
    "* We can **infer it from the data** by, e.g., using a **maximum likelihood** approach,\n",
    "\n",
    "$$ \\mu_{t} = \\arg\\max_\\mu \\ln p(s_1,\\ldots,s_n|\\mu) = \\arg\\max_\\mu \\prod_i \\int_{t_i} p(s_i|t_i)p(t_i|\\mu) dt_i $$\n",
    "where $s_i$ and $t_i$ denote the sensor reading and the real temperature at time $i$. \n",
    "\n",
    "* The graphical model:\n",
    "<center>\n",
    "<img src=\"https://github.com/PGM-Lab/probai-2021-pyro/blob/main/Day1/Figures/PGM-Tem_sensor4.png?raw=1\" alt=\"Drawing\" width=\"150\">\n",
    "</center>\n",
    "* With PPLs, we do not have to care about the **underlying inference problem** We just define the model and let the **PPL's engine** make the work for us. \n",
    "\n",
    "* We use Pyro's parameters (defined as ``pyro.param``), which are free variables we can optimize. \n",
    "\n",
    "\n",
    "\n",
    "---"
   ]
  },
  {
   "cell_type": "code",
   "execution_count": 20,
   "metadata": {
    "id": "yXEFGMkzL-0x"
   },
   "outputs": [],
   "source": [
    "#The observatons   \n",
    "obs = {'sensor': torch.tensor([18., 18.7, 19.2, 17.8, 20.3, 22.4, 20.3, 21.2, 19.5, 20.1])}\n",
    "\n",
    "def model(obs):\n",
    "    # `mean_temp` is learnable\n",
    "    mean_temp = pyro.param('mean_temp', torch.tensor(15.0))\n",
    "    for i in range(obs['sensor'].shape[0]):\n",
    "        temp = pyro.sample(f'temp_{i}', dist.Normal(mean_temp, 2.0))\n",
    "        sensor = pyro.sample(f'sensor_{i}', dist.Normal(temp, 1.0), obs = obs['sensor'][i])"
   ]
  },
  {
   "cell_type": "code",
   "execution_count": 21,
   "metadata": {
    "cellView": "form",
    "id": "9zTG-8UVL-0x"
   },
   "outputs": [],
   "source": [
    "#@title\n",
    "#Define the guide\n",
    "def guide(obs):\n",
    "    for i in range(obs['sensor'].shape[0]):\n",
    "        mean_i = pyro.param(f'mean_{i}', obs['sensor'][i])\n",
    "        scale_i = pyro.param(f'scale_{i}', torch.tensor(1.), constraint = constraints.positive)\n",
    "        temp = pyro.sample(f'temp_{i}', dist.Normal(mean_i, scale_i))"
   ]
  },
  {
   "cell_type": "code",
   "execution_count": 22,
   "metadata": {
    "colab": {
     "base_uri": "https://localhost:8080/"
    },
    "id": "GEfOM8zWL-0y",
    "outputId": "9a530a66-b954-40aa-aa75-a71ea565ce26"
   },
   "outputs": [
    {
     "name": "stdout",
     "output_type": "stream",
     "text": [
      "Step: 0. Loss: 48.78990650177002\n",
      "Step: 250. Loss: 25.413434386253357\n",
      "Step: 500. Loss: 20.30023491382599\n",
      "Step: 750. Loss: 18.34083443880081\n",
      "Step: 1000. Loss: 18.529908418655396\n",
      "Step: 1250. Loss: 18.344002544879913\n",
      "Step: 1500. Loss: 18.898868143558502\n",
      "Step: 1750. Loss: 18.467625558376312\n",
      "Step: 2000. Loss: 17.920530676841736\n",
      "Step: 2250. Loss: 18.483322203159332\n",
      "Step: 2500. Loss: 17.548838436603546\n",
      "Step: 2750. Loss: 18.01423716545105\n",
      "Step: 3000. Loss: 17.85559320449829\n",
      "Step: 3250. Loss: 18.019640266895294\n",
      "Step: 3500. Loss: 17.139669597148895\n",
      "Step: 3750. Loss: 16.54307270050049\n",
      "Step: 4000. Loss: 17.670510947704315\n",
      "Step: 4250. Loss: 16.972456634044647\n",
      "Step: 4500. Loss: 17.145612597465515\n",
      "Step: 4750. Loss: 17.377890169620514\n"
     ]
    },
    {
     "data": {
      "image/png": "[encoded data removed]",
      "text/plain": [
       "<Figure size 432x288 with 1 Axes>"
      ]
     },
     "metadata": {
      "needs_background": "light"
     },
     "output_type": "display_data"
    },
    {
     "name": "stdout",
     "output_type": "stream",
     "text": [
      "Estimated Mean Temperature\n",
      "19.324594497680664\n"
     ]
    }
   ],
   "source": [
    "#@title\n",
    "#Run inference\n",
    "svi(model, guide, obs, num_steps=5000, plot = True)"
   ]
  },
  {
   "cell_type": "code",
   "execution_count": 24,
   "metadata": {},
   "outputs": [
    {
     "name": "stdout",
     "output_type": "stream",
     "text": [
      "Estimated Mean Temperature (Maximum Likelihood Estimate)\n",
      "19.324594497680664\n"
     ]
    }
   ],
   "source": [
    "#Print results\n",
    "print(\"Estimated Mean Temperature (Maximum Likelihood Estimate)\")\n",
    "mean_temp_ml = pyro.param(\"mean_temp\").item()\n",
    "print(mean_temp_ml)"
   ]
  },
  {
   "cell_type": "code",
   "execution_count": 25,
   "metadata": {},
   "outputs": [
    {
     "name": "stdout",
     "output_type": "stream",
     "text": [
      "dict_keys(['mean_0', 'scale_0', 'mean_1', 'scale_1', 'mean_2', 'scale_2', 'mean_3', 'scale_3', 'mean_4', 'scale_4', 'mean_5', 'scale_5', 'mean_6', 'scale_6', 'mean_7', 'scale_7', 'mean_8', 'scale_8', 'mean_9', 'scale_9', 'mean_temp'])\n",
      "----------\n",
      "tensor(0.8735, grad_fn=<AddBackward0>)\n",
      "----------\n",
      "tensor(0.8735, grad_fn=<AddBackward0>)\n"
     ]
    }
   ],
   "source": [
    "# To get the name of all the parameters we can use the parameter store\n",
    "param_store = pyro.get_param_store() #Basically works as a dictionary\n",
    "print(param_store.get_all_param_names())\n",
    "print(\"-\" * 10)\n",
    "print(param_store.get_param(\"scale_0\"))\n",
    "\n",
    "# Easier\n",
    "print(\"-\" * 10)\n",
    "print(pyro.param(\"scale_0\"))"
   ]
  },
  {
   "cell_type": "markdown",
   "metadata": {
    "id": "tiCwbfJwL-0y"
   },
   "source": [
    "<img src=\"https://github.com/PGM-Lab/probai-2021-pyro/blob/main/Day1/Figures/blue.png?raw=1\" alt=\"Drawing\" width=2000 height=20>\n",
    "\n",
    "---\n",
    "* Instead of performing *maximum likelihood* learning, we can perform **Bayesian learning**.\n",
    "\n",
    "* We treat the unknown quantity as a **random variable**.\n",
    "\n",
    "* This model can be graphically represented as follows:\n",
    "\n",
    "<center>\n",
    "<img src=\"https://github.com/PGM-Lab/probai-2021-pyro/blob/main/Day1/Figures/PGM-Tem-Sensor2.png?raw=1\" alt=\"Drawing\" width=\"150\">\n",
    "</center>\n",
    "---\n",
    "<img src=\"https://github.com/PGM-Lab/probai-2021-pyro/blob/main/Day1/Figures/blue.png?raw=1\" alt=\"Drawing\" width=2000 height=20>\n",
    "\n",
    "---"
   ]
  },
  {
   "cell_type": "code",
   "execution_count": 26,
   "metadata": {
    "id": "CaTdLm6ML-0y"
   },
   "outputs": [],
   "source": [
    "#The observatons   \n",
    "obs = {'sensor': torch.tensor([18., 18.7, 19.2, 17.8, 20.3, 22.4, 20.3, 21.2, 19.5, 20.1])}\n",
    "\n",
    "def model(obs):\n",
    "    mean_temp = pyro.sample('mean_temp', dist.Normal(15.0, 2.0))\n",
    "    for i in range(obs['sensor'].shape[0]):\n",
    "        temp = pyro.sample(f'temp_{i}', dist.Normal(mean_temp, 2.0))\n",
    "        sensor = pyro.sample(f'sensor_{i}', dist.Normal(temp, 1.0), obs = obs['sensor'][i])"
   ]
  },
  {
   "cell_type": "markdown",
   "metadata": {
    "id": "jJfVNZFBL-0y"
   },
   "source": [
    "---\n",
    "<img src=\"https://github.com/PGM-Lab/probai-2021-pyro/blob/main/Day1/Figures/blue.png?raw=1\" alt=\"Drawing\" width=2000 height=20>\n",
    "\n",
    "---\n",
    "* We perform inference over this model:\n",
    "\n",
    " $$ p(\\mu_t | s_1,\\ldots, s_n)=\\frac{p(\\mu_t)\\prod_{i=1}^n \\int p(s_i|t_i)p(t_i|\\mu_t)dt_i }{\\int \\prod_{i=1}^n p(s_i|\\mu_t)p(\\mu_t) d\\mu} $$\n",
    "---\n"
   ]
  },
  {
   "cell_type": "code",
   "execution_count": 27,
   "metadata": {
    "cellView": "form",
    "id": "0MKYgw54L-0z"
   },
   "outputs": [],
   "source": [
    "#@title\n",
    "#Define the guide\n",
    "def guide(obs):\n",
    "    mean = pyro.param(\"mean\", torch.mean(obs['sensor']))\n",
    "    scale = pyro.param(\"scale\", torch.tensor(1.), constraint = constraints.positive)\n",
    "    mean_temp = pyro.sample('mean_temp', dist.Normal(mean, scale))\n",
    "    for i in range(obs['sensor'].shape[0]):\n",
    "        mean_i = pyro.param(f'mean_{i}', obs['sensor'][i])\n",
    "        scale_i = pyro.param(f'scale_{i}', torch.tensor(1.), constraint = constraints.positive)\n",
    "        temp = pyro.sample(f'temp_{i}', dist.Normal(mean_i, scale_i))"
   ]
  },
  {
   "cell_type": "code",
   "execution_count": 28,
   "metadata": {
    "colab": {
     "base_uri": "https://localhost:8080/"
    },
    "id": "W0YiqM36L-0z",
    "outputId": "add3aa7f-0fc6-479f-9e1c-16adfe4465c7"
   },
   "outputs": [
    {
     "name": "stdout",
     "output_type": "stream",
     "text": [
      "Step: 0. Loss: 22.730609238147736\n",
      "Step: 250. Loss: 23.135410010814667\n",
      "Step: 500. Loss: 22.516603589057922\n",
      "Step: 750. Loss: 23.012173414230347\n",
      "Step: 1000. Loss: 23.379332721233368\n",
      "Step: 1250. Loss: 21.344900250434875\n",
      "Step: 1500. Loss: 21.547706425189972\n",
      "Step: 1750. Loss: 22.216265946626663\n",
      "Step: 2000. Loss: 21.890135407447815\n",
      "Step: 2250. Loss: 20.29723846912384\n",
      "Step: 2500. Loss: 22.3088219165802\n",
      "Step: 2750. Loss: 21.060743868350983\n",
      "Step: 3000. Loss: 20.52791166305542\n",
      "Step: 3250. Loss: 21.107940018177032\n",
      "Step: 3500. Loss: 20.697864294052124\n",
      "Step: 3750. Loss: 19.537007689476013\n",
      "Step: 4000. Loss: 20.411892294883728\n",
      "Step: 4250. Loss: 21.04202163219452\n",
      "Step: 4500. Loss: 22.162554025650024\n",
      "Step: 4750. Loss: 21.761186361312866\n"
     ]
    },
    {
     "data": {
      "image/png": "[encoded data removed]",
      "text/plain": [
       "<Figure size 432x288 with 1 Axes>"
      ]
     },
     "metadata": {
      "needs_background": "light"
     },
     "output_type": "display_data"
    },
    {
     "name": "stdout",
     "output_type": "stream",
     "text": [
      "P(mean_temp|Sensor=[18., 18.7, 19.2, 17.8, 20.3, 22.4, 20.3, 21.2, 19.5, 20.1]) =\n",
      "Normal(loc: 18.906660079956055, scale: 0.5859914422035217)\n",
      "\n",
      "54.66743087768555 seconds\n"
     ]
    }
   ],
   "source": [
    "import time\n",
    "        \n",
    "#Run inference\n",
    "start = time.time()\n",
    "svi(model, guide, obs, num_steps=5000, plot = True)\n",
    "\n",
    "#Print results\n",
    "print(\"P(mean_temp|Sensor=[18., 18.7, 19.2, 17.8, 20.3, 22.4, 20.3, 21.2, 19.5, 20.1]) =\")\n",
    "print(dist.Normal(pyro.param(\"mean\").item(), pyro.param(\"scale\").item()))\n",
    "print(\"\")\n",
    "end = time.time()\n",
    "print(f\"{(end - start)} seconds\")"
   ]
  },
  {
   "cell_type": "markdown",
   "metadata": {
    "id": "YFKoGLcnL-0z"
   },
   "source": [
    "---\n",
    "* The result of the learning is **not a point estimate**.\n",
    "\n",
    "* We have a **posterior distribution** which captures **uncertainty** about the estimation.\n",
    "\n",
    "---"
   ]
  },
  {
   "cell_type": "code",
   "execution_count": 30,
   "metadata": {
    "colab": {
     "base_uri": "https://localhost:8080/",
     "height": 265
    },
    "id": "ES_yHXNKL-0z",
    "outputId": "94fa44f1-20a8-42c5-be5b-62e02f715194"
   },
   "outputs": [
    {
     "data": {
      "image/png": "[encoded data removed]",
      "text/plain": [
       "<Figure size 432x288 with 1 Axes>"
      ]
     },
     "metadata": {
      "needs_background": "light"
     },
     "output_type": "display_data"
    }
   ],
   "source": [
    "mu = pyro.param(\"mean\").item()\n",
    "scale = pyro.param(\"scale\").item()\n",
    "x = np.linspace(mu - 3*scale, mu + 3*scale, 100)\n",
    "plt.plot(x, stats.norm.pdf(x, mu, scale), label='Posterior')\n",
    "point = mean_temp_ml\n",
    "plt.plot([point, point],[0., 1.], label='Point Estimate (MLE)')\n",
    "plt.legend()\n",
    "plt.show()"
   ]
  },
  {
   "cell_type": "markdown",
   "metadata": {
    "id": "1SXUdMtUL-00"
   },
   "source": [
    "<img src=\"https://github.com/PGM-Lab/probai-2021-pyro/blob/main/Day1/Figures/blue.png?raw=1\" alt=\"Drawing\" width=2000 height=20>\n",
    "\n",
    "\n",
    "### 3.3 The use of ``plate`` construct\n",
    "\n",
    "---\n",
    "\n",
    "* Pyro can exploit **conditional independencies and vectorization** to make inference much faster. \n",
    "\n",
    "* This can be done with the construct **``plate``**. \n",
    "\n",
    "* With this construct, we can indicate that the variables $s_i$ and $t_i$ are **conditionally indepedendent** from another variables $s_j$ and $t_j$ given $\\mu_t$. \n",
    "\n",
    "<center>\n",
    "<img src=\"https://github.com/PGM-Lab/probai-2021-pyro/blob/main/Day1/Figures/PGM-Tem-Sensor2.png?raw=1\" alt=\"Drawing\" width=\"150\">\n",
    "</center>\n",
    "---\n",
    "\n"
   ]
  },
  {
   "cell_type": "code",
   "execution_count": 34,
   "metadata": {
    "id": "4LlQKqp4L-00"
   },
   "outputs": [],
   "source": [
    "#The observatons   \n",
    "obs = {'sensor': torch.tensor([18., 18.7, 19.2, 17.8, 20.3, 22.4, 20.3, 21.2, 19.5, 20.1])}\n",
    "\n",
    "def model(obs):\n",
    "    mean_temp = pyro.sample('mean_temp', dist.Normal(15.0, 2.0))\n",
    "    # plate construct\n",
    "    with pyro.plate('a', obs['sensor'].shape[0]):\n",
    "        temp = pyro.sample('temp', dist.Normal(mean_temp, 2.0))\n",
    "        sensor = pyro.sample('sensor', dist.Normal(temp, 1.0), obs=obs['sensor'])"
   ]
  },
  {
   "cell_type": "markdown",
   "metadata": {
    "id": "yAh8vLjLL-00"
   },
   "source": [
    "---\n",
    "* The ``plate`` construct reflects the standard notational use in graphical models denoting the **repetition of some parts of of the graph**. \n",
    "<center>\n",
    "<img src=\"https://github.com/PGM-Lab/probai-2021-pyro/blob/main/Day1/Figures/PGM-Tem-Sensor3.png?raw=1\" alt=\"Drawing\" width=\"250\">\n",
    "</center>\n",
    "* We can here make a distinction between **local** and **global** random variables: \n",
    "\n",
    ">* **Local random variables** caputure **specific information** about the $i$-th data sample (i.e. the real temperature at this moment in time).\n",
    "\n",
    ">* **Global random variables** capture **common information** about all the data samples (i.e. the average temperature of all data samples). \n",
    "\n",
    "---\n",
    "\n",
    "<img src=\"https://github.com/PGM-Lab/probai-2021-pyro/blob/main/Day1/Figures/blue.png?raw=1\" alt=\"Drawing\" width=2000 height=20>\n",
    "\n",
    "\n",
    "Observe how inference in this model is much **faster**. "
   ]
  },
  {
   "cell_type": "code",
   "execution_count": 38,
   "metadata": {
    "cellView": "form",
    "id": "vNC2WW9tL-00"
   },
   "outputs": [],
   "source": [
    "#@title\n",
    "#Define the guide\n",
    "def guide(obs_sensor):\n",
    "    mean = pyro.param(\"mean\", torch.mean(obs['sensor']))\n",
    "    scale = pyro.param(\"scale\", torch.tensor(1.), constraint = constraints.positive)\n",
    "    mean_temp = pyro.sample('mean_temp', dist.Normal(mean, scale))\n",
    "    \n",
    "    # Notice here the part `as i`\n",
    "    with pyro.plate('a', obs['sensor'].shape[0]) as i:\n",
    "        mean_i = pyro.param('mean_i', obs['sensor'][i])\n",
    "        scale_i = pyro.param('scale_i', torch.tensor(1.), constraint = constraints.positive)\n",
    "        temp = pyro.sample('temp', dist.Normal(mean_i, scale_i))"
   ]
  },
  {
   "cell_type": "code",
   "execution_count": 39,
   "metadata": {
    "colab": {
     "base_uri": "https://localhost:8080/"
    },
    "id": "ASYtP3j0L-01",
    "outputId": "663c4e44-f3be-47c4-ccdb-8db9a2384e79"
   },
   "outputs": [
    {
     "name": "stdout",
     "output_type": "stream",
     "text": [
      "Step: 0. Loss: 27.614915829602054\n",
      "Step: 250. Loss: 25.363654078195673\n",
      "Step: 500. Loss: 21.768937074970882\n",
      "Step: 750. Loss: 23.097348544069035\n",
      "P(mean_temp|Sensor=[18., 18.7, 19.2, 17.8, 20.3, 22.4, 20.3, 21.2, 19.5, 20.1]) =\n",
      "Normal(loc: 17.746591567993164, scale: 0.6085163950920105)\n",
      "\n",
      "6.705528497695923 seconds\n"
     ]
    }
   ],
   "source": [
    "#Run inference\n",
    "start = time.time()\n",
    "svi(model, guide, obs, num_steps=1000)\n",
    "\n",
    "#Print results\n",
    "print(\"P(mean_temp|Sensor=[18., 18.7, 19.2, 17.8, 20.3, 22.4, 20.3, 21.2, 19.5, 20.1]) =\")\n",
    "print(dist.Normal(pyro.param(\"mean\").item(), pyro.param(\"scale\").item()))\n",
    "print(\"\")\n",
    "end = time.time()\n",
    "print(f\"{(end - start)} seconds\")"
   ]
  },
  {
   "cell_type": "markdown",
   "metadata": {
    "id": "dUDwSWFsL-01"
   },
   "source": [
    "\n",
    "<img src=\"https://github.com/PGM-Lab/probai-2021-pyro/blob/main/Day1/Figures/blue.png?raw=1\" alt=\"Drawing\" width=2000 height=20>\n",
    "\n",
    "\n",
    "### **<span style=\"color:red\">Exercise 1: </span>The role of *prior distributions* in learning**\n",
    "\n",
    "In this case we just want to llustrate how the output of learning depends of the particular **prior** we introduce in the model. Play with different options and extract conclusions:\n",
    "\n",
    "1. What happens if we change the mean of the prior?\n",
    "2. What happens if we change the scale of the prior?\n",
    "3. What happens to the posterior if the number of data samples deacreases and increases?"
   ]
  },
  {
   "cell_type": "code",
   "execution_count": 54,
   "metadata": {
    "colab": {
     "base_uri": "https://localhost:8080/",
     "height": 367
    },
    "id": "5OWLg5tvL-01",
    "outputId": "c6e80f76-72af-41ec-a581-de6c2421fb59"
   },
   "outputs": [
    {
     "name": "stdout",
     "output_type": "stream",
     "text": [
      "Step: 0. Loss: 1149.974737615655\n",
      "Step: 250. Loss: 1103.271010603801\n",
      "Step: 500. Loss: 1111.8308753467359\n",
      "Step: 750. Loss: 1100.2123387452802\n",
      "P(Temperature|Sensor=18.0) = \n",
      "Normal(loc: 18.05093002319336, scale: 0.09702174365520477)\n"
     ]
    },
    {
     "data": {
      "image/png": "[encoded data removed]",
      "text/plain": [
       "<Figure size 432x288 with 1 Axes>"
      ]
     },
     "metadata": {
      "needs_background": "light"
     },
     "output_type": "display_data"
    }
   ],
   "source": [
    "#The observatons   \n",
    "sample_size = 500\n",
    "obs = {'sensor': torch.tensor(np.random.normal(18, 2, sample_size))}\n",
    "\n",
    "def model(obs):\n",
    "    # Mean of the prior\n",
    "    mean_temp = pyro.sample('mean_temp', dist.Normal(15.0, 5.0))\n",
    "    with pyro.plate('a', obs['sensor'].shape[0]):\n",
    "        #Prior\n",
    "        temp = pyro.sample('temp', dist.Normal(mean_temp, 2.0))\n",
    "        sensor = pyro.sample('sensor', dist.Normal(temp, 1.0), obs=obs['sensor'])\n",
    "\n",
    "#Run inference\n",
    "svi(model, guide, obs, num_steps=1000)\n",
    "\n",
    "#Print results\n",
    "print(\"P(Temperature|Sensor=18.0) = \")\n",
    "print(dist.Normal(pyro.param(\"mean\").item(), pyro.param(\"scale\").item()))\n",
    "\n",
    "x = np.linspace(16, 20, 100)\n",
    "plt.plot(x, stats.norm.pdf(x, pyro.param(\"mean\").item(), pyro.param(\"scale\").item()), label='Posterior')\n",
    "point = 18\n",
    "plt.plot([point, point],[0., 1.], label='Point Estimate')\n",
    "plt.xlim(16,20)\n",
    "plt.legend()\n",
    "plt.show()\n"
   ]
  },
  {
   "cell_type": "markdown",
   "metadata": {
    "id": "uf7kVC-hL-03"
   },
   "source": [
    "<img src=\"https://github.com/PGM-Lab/probai-2021-pyro/blob/main/Day1/Figures/blue.png?raw=1\" alt=\"Drawing\" width=2000 height=20>\n",
    "\n",
    "\n",
    "# **4.  Icecream Shop**\n",
    "\n",
    "\n",
    "* We have an ice-cream shop and we **record the ice-cream sales and the average temperature of the day** (using a temperature sensor).\n",
    "\n",
    "* We know **temperature affects the sales** of ice-creams.\n",
    "\n",
    "* We want to **precisely model** how temperature affects ice-cream sales.\n",
    "\n",
    "<center>\n",
    "<img src=\"https://github.com/PGM-Lab/probai-2021-pyro/raw/main/Day1/Figures/Ice-cream_shop_-_Florida.jpg\" alt=\"Drawing\" width=300 >\n",
    "</center>\n",
    "\n"
   ]
  },
  {
   "cell_type": "markdown",
   "metadata": {
    "id": "uv2fWAHxDRxO"
   },
   "source": [
    "<img src=\"https://github.com/PGM-Lab/probai-2021-pyro/blob/main/Day1/Figures/blue.png?raw=1\" alt=\"Drawing\" width=2000 height=20>\n",
    "\n",
    "\n",
    "---\n",
    "* We have **observations** from temperature and sales.\n",
    "\n",
    "* Sales are modeled with a **Poisson** distribution:\n",
    "\n",
    ">- The rate of the Poisson **linearly depends of the real temperature**.\n",
    "---\n",
    "\n",
    "Next figure provides a graphical and a probabilistic description of the model:\n",
    "<center>\n",
    "<img src=\"https://github.com/PGM-Lab/probai-2021-pyro/blob/main/Day1/Figures/Ice-Cream-Shop-Model.png?raw=1\" alt=\"Drawing\" width=700>\n",
    "</center>\n",
    "\n"
   ]
  },
  {
   "cell_type": "code",
   "execution_count": 55,
   "metadata": {
    "id": "HR8bu27OL-03"
   },
   "outputs": [],
   "source": [
    "#The observatons   \n",
    "obs = {'sensor': torch.tensor([18., 18.7, 19.2, 17.8, 20.3, 22.4, 20.3, 21.2, 19.5, 20.1]),\n",
    "       'sales': torch.tensor([46., 47., 49., 44., 50., 54., 51., 52., 49., 53.])}\n",
    "\n",
    "def model(obs):\n",
    "    # Global random variables\n",
    "    mean_temp = pyro.sample('mean_temp', dist.Normal(15.0, 2.0))\n",
    "    alpha = pyro.sample('alpha', dist.Normal(0.0, 100.0))\n",
    "    beta = pyro.sample('beta', dist.Normal(0.0, 100.0))\n",
    "    \n",
    "    # Local random variables\n",
    "    with pyro.plate('a', obs['sensor'].shape[0]):\n",
    "        temp = pyro.sample('temp', dist.Normal(mean_temp, 2.0))\n",
    "        sensor = pyro.sample('sensor', dist.Normal(temp, 1.0), obs = obs['sensor'])\n",
    "        # `torch.max` function is used to avoid nearly zero rates\n",
    "        rate = torch.max(torch.tensor(0.001), alpha + beta * temp)\n",
    "        sales = pyro.sample('sales', dist.Poisson(rate), obs = obs['sales'])"
   ]
  },
  {
   "cell_type": "markdown",
   "metadata": {
    "id": "gT34C5CpDmPZ"
   },
   "source": [
    "<img src=\"https://github.com/PGM-Lab/probai-2021-pyro/blob/main/Day1/Figures/blue.png?raw=1\" alt=\"Drawing\" width=2000 height=20>\n"
   ]
  },
  {
   "cell_type": "code",
   "execution_count": 56,
   "metadata": {
    "cellView": "form",
    "id": "nkOSF-WlL-03"
   },
   "outputs": [],
   "source": [
    "#@title\n",
    "#Define the guide\n",
    "def guide(obs):\n",
    "    # `mean` and `scale` are learnable parameters to parametrize the posterior for `mean_temp`\n",
    "    mean = pyro.param(\"mean\", torch.mean(obs['sensor']))\n",
    "    scale = pyro.param(\"scale\", torch.tensor(1.), constraint = constraints.positive)\n",
    "    mean_temp = pyro.sample('mean_temp', dist.Normal(mean, scale))\n",
    "    \n",
    "    # `alpha_mean` and `alpha_scale` are learnable parameters to parametrize the posterior for `alpha`\n",
    "    alpha_mean = pyro.param(\"alpha_mean\", torch.mean(obs['sensor']))\n",
    "    alpha_scale = pyro.param(\"alpha_scale\", torch.tensor(1.), constraint = constraints.positive)\n",
    "    alpha = pyro.sample('alpha', dist.Normal(alpha_mean, alpha_scale))\n",
    "    \n",
    "    # `beta_mean` and `beta_scale` are learnable parameters to parametrize the posterior for `beta`\n",
    "    beta_mean = pyro.param(\"beta_mean\", torch.tensor(1.0))\n",
    "    beta_scale = pyro.param(\"beta_scale\", torch.tensor(1.), constraint = constraints.positive)\n",
    "    beta = pyro.sample('beta', dist.Normal(beta_mean, beta_scale))\n",
    "\n",
    "    with pyro.plate('a', obs['sensor'].shape[0]) as i:\n",
    "        mean_i = pyro.param('mean_i', obs['sensor'][i])\n",
    "        scale_i = pyro.param('scale_i', torch.tensor(1.), constraint = constraints.positive)\n",
    "        temp = pyro.sample('temp', dist.Normal(mean_i, scale_i))  "
   ]
  },
  {
   "cell_type": "markdown",
   "metadata": {
    "id": "6jqw09FND19b"
   },
   "source": [
    "---\n",
    "* We run the **(variational) inference engine** and get the results.\n",
    "\n",
    "* With PPLs, we only care about modeling, **not about the low-level details** of the machine-learning solver.\n",
    "\n",
    "---"
   ]
  },
  {
   "cell_type": "code",
   "execution_count": 57,
   "metadata": {
    "colab": {
     "base_uri": "https://localhost:8080/"
    },
    "id": "gmaOTBYAL-03",
    "outputId": "7a6bd327-e423-4a9b-8cc0-96fa95cdaf9c"
   },
   "outputs": [
    {
     "name": "stdout",
     "output_type": "stream",
     "text": [
      "Step: 0. Loss: 59.588271617889404\n",
      "Step: 250. Loss: 61.99132990837097\n",
      "Step: 500. Loss: 62.59643054008484\n",
      "Step: 750. Loss: 64.6226726770401\n",
      "Posterior temperature mean\n",
      "Normal(loc: 19.29538345336914, scale: 0.6179718375205994)\n",
      "\n",
      "Posterior alpha\n",
      "Normal(loc: 19.771303176879883, scale: 1.8412442207336426)\n",
      "\n",
      "Posterior aeta\n",
      "Normal(loc: 1.4701026678085327, scale: 0.12041415274143219)\n"
     ]
    }
   ],
   "source": [
    "#Run inference\n",
    "svi(model, guide, obs, num_steps=1000)\n",
    "\n",
    "#Print results    \n",
    "print(\"Posterior temperature mean\")\n",
    "print(dist.Normal(pyro.param(\"mean\").item(), pyro.param(\"scale\").item()))\n",
    "print(\"\")\n",
    "print(\"Posterior alpha\")\n",
    "print(dist.Normal(pyro.param(\"alpha_mean\").item(), pyro.param(\"alpha_scale\").item()))\n",
    "print(\"\")\n",
    "print(\"Posterior aeta\")\n",
    "print(dist.Normal(pyro.param(\"beta_mean\").item(), pyro.param(\"beta_scale\").item()))"
   ]
  },
  {
   "cell_type": "markdown",
   "metadata": {
    "id": "4ulfx96AL-04"
   },
   "source": [
    "<img src=\"https://github.com/PGM-Lab/probai-2021-pyro/blob/main/Day1/Figures/blue.png?raw=1\" alt=\"Drawing\" width=2000 height=20>\n",
    "\n",
    "\n",
    "### <span style=\"color:red\">Exercise 2: Introduce Humidity in the Icecream shop model </span> \n",
    "---\n",
    "* Assume we also have a bunch of **humidity sensor measurements**.\n",
    "* Assume the **sales are also linearly influenced by the humidity**.\n",
    "* **Extend the above model** in order to integrate all of that.\n",
    "---\n",
    "\n",
    "Next figure provides a graphical and a probabilistic description of the model:\n",
    "<center>\n",
    "<img src=\"https://github.com/PGM-Lab/probai-2021-pyro/blob/main/Day1/Figures/Ice-Cream-Shop-Model-Humidity.png?raw=1\" alt=\"Drawing\" width=700>\n",
    "</center>\n",
    "\n",
    "\n"
   ]
  },
  {
   "cell_type": "code",
   "execution_count": 62,
   "metadata": {
    "id": "8UxOUxuTL-04"
   },
   "outputs": [],
   "source": [
    "#The observatons   \n",
    "obs = {'sensor': torch.tensor([18., 18.7, 19.2, 17.8, 20.3, 22.4, 20.3, 21.2, 19.5, 20.1]),\n",
    "       'sales': torch.tensor([46., 47., 49., 44., 50., 54., 51., 52., 49., 53.]),\n",
    "       'sensor_humidity': torch.tensor([82.8, 87.6, 69.1, 74.2, 80.3, 94.2, 91.2, 92.2, 99.1, 93.2])}\n",
    "\n",
    "\n",
    "def model(obs):\n",
    "    mean_temp = pyro.sample('mean_temp', dist.Normal(15.0, 2.0))\n",
    "    ## Introduce a random variable \"mean_humidity\"\n",
    "    mean_humidity = pyro.sample(\"mean_humidity\", dist.Normal(80.0, 5.0))\n",
    "\n",
    "    alpha = pyro.sample('alpha', dist.Normal(0.0, 100.0))\n",
    "    beta = pyro.sample('beta', dist.Normal(0.0, 100.0))\n",
    "    \n",
    "    ## Introduce a coefficient for the humidity \"gamma\"\n",
    "    gamma = pyro.sample(\"gamma\", dist.Normal(0.0, 100.0))\n",
    "\n",
    "    with pyro.plate('a', obs['sensor'].shape[0]):\n",
    "        temp = pyro.sample('temp', dist.Normal(mean_temp, 2.0))\n",
    "        sensor = pyro.sample('sensor', dist.Normal(temp, 1.0), obs=obs['sensor'])\n",
    "        #Add the 'humidity' variable and the 'sensor_humidity' variable\n",
    "        humidity = pyro.sample(\"humidity\", dist.Normal(mean_humidity, 2.0))\n",
    "        sensor_humidity = pyro.sample(\"sensor_humidity\", dist.Normal(humidity, 1.0), obs = obs[\"sensor_humidity\"])\n",
    "        \n",
    "        #Add the linear dependency for the rate with respect to temp and humidity (keep torch.max to avoid numerical stability issues)\n",
    "        rate = torch.max(torch.tensor(0.001), alpha + beta * temp + gamma * humidity)\n",
    "        sales = pyro.sample('sales', dist.Poisson(rate), obs=obs['sales'])"
   ]
  },
  {
   "cell_type": "markdown",
   "metadata": {
    "id": "wC7ceQTkHrrg"
   },
   "source": [
    "<img src=\"https://github.com/PGM-Lab/probai-2021-pyro/blob/main/Day1/Figures/blue.png?raw=1\" alt=\"Drawing\" width=2000 height=20>\n",
    "\n",
    "---\n",
    "* We run the **(variational) inference engine** and get the results.\n",
    "\n",
    "* With PPLs, we only care about modeling, **not about the low-level details** of the machine-learning solver.\n",
    "\n",
    "---"
   ]
  },
  {
   "cell_type": "code",
   "execution_count": 63,
   "metadata": {
    "cellView": "form",
    "id": "zyR9EXz2L-04"
   },
   "outputs": [],
   "source": [
    "#@title\n",
    "#Auxiliary Guide Code\n",
    "def guide(obs):\n",
    "    # Posterior for `mean_temp`\n",
    "    mean = pyro.param(\"mean\", torch.mean(obs['sensor']))\n",
    "    scale = pyro.param(\"scale\", torch.tensor(1.), constraint = constraints.positive)\n",
    "    mean_temp = pyro.sample('mean_temp', dist.Normal(mean, scale))\n",
    "    \n",
    "    # Posterior for `mean_humidity`\n",
    "    meanH = pyro.param(\"meanH\", torch.mean(obs['sensor_humidity']))\n",
    "    scaleH = pyro.param(\"scaleH\", torch.tensor(1.), constraint = constraints.positive)\n",
    "    mean_humidity = pyro.sample('mean_humidity', dist.Normal(meanH, scaleH))\n",
    "    \n",
    "    # Posterior for `alpha`\n",
    "    alpha_mean = pyro.param(\"alpha_mean\", torch.mean(obs['sensor']), constraint = constraints.positive)\n",
    "    alpha_scale = pyro.param(\"alpha_scale\", torch.tensor(1.), constraint = constraints.positive)\n",
    "    alpha = pyro.sample('alpha', dist.Normal(alpha_mean, alpha_scale))\n",
    "    \n",
    "    # Posterior for `beta`\n",
    "    beta_mean = pyro.param(\"beta_mean\", torch.tensor(1.0), constraint = constraints.positive)\n",
    "    beta_scale = pyro.param(\"beta_scale\", torch.tensor(1.), constraint = constraints.positive)\n",
    "    beta = pyro.sample('beta', dist.Normal(beta_mean, beta_scale))\n",
    "    \n",
    "    # Posterior for `gamma`\n",
    "    gamma_mean = pyro.param(\"gamma_mean\", torch.tensor(1.0), constraint = constraints.positive)\n",
    "    gamma_scale = pyro.param(\"gamma_scale\", torch.tensor(1.), constraint = constraints.positive)\n",
    "    gamma = pyro.sample('gamma', dist.Normal(gamma_mean, gamma_scale))\n",
    "\n",
    "    with pyro.plate('a', obs['sensor'].shape[0]) as i:\n",
    "        # Posterior for `temp`\n",
    "        mean_i = pyro.param('mean_i', obs['sensor'][i])\n",
    "        scale_i = pyro.param('scale_i', torch.tensor(1.), constraint=constraints.positive)\n",
    "        temp = pyro.sample('temp', dist.Normal(mean_i, scale_i))\n",
    "        \n",
    "        # Posterior for `humidity`\n",
    "        meanH_i = pyro.param('meanH_i', obs['sensor_humidity'][i])\n",
    "        scaleH_i = pyro.param('scaleH_i', torch.tensor(1.), constraint=constraints.positive)\n",
    "        humidity = pyro.sample('humidity', dist.Normal(meanH_i, scaleH_i)) "
   ]
  },
  {
   "cell_type": "code",
   "execution_count": 64,
   "metadata": {
    "colab": {
     "base_uri": "https://localhost:8080/"
    },
    "id": "NvIXRoVeL-05",
    "outputId": "d8287eee-ad25-4cf7-dcf8-ef7917a920ab"
   },
   "outputs": [
    {
     "name": "stdout",
     "output_type": "stream",
     "text": [
      "Step: 0. Loss: 225.9860978126526\n",
      "Step: 250. Loss: 189.4837949872017\n",
      "Step: 500. Loss: 181.71267437934875\n",
      "Step: 750. Loss: 173.74161976575851\n",
      "Posterior Temperature Mean\n",
      "Normal(loc: 19.280193328857422, scale: 0.6474274396896362)\n",
      "\n",
      "Posterior Humidity Mean\n",
      "Normal(loc: 86.28569030761719, scale: 0.652188777923584)\n",
      "\n",
      "Posterior Alpha\n",
      "Normal(loc: 14.803262710571289, scale: 1.8396451473236084)\n",
      "\n",
      "Posterior Beta\n",
      "Normal(loc: 0.8328640460968018, scale: 0.11642642319202423)\n",
      "\n",
      "Posterior Gamma\n",
      "Normal(loc: 0.20705710351467133, scale: 0.02703937329351902)\n"
     ]
    }
   ],
   "source": [
    "#Run inference\n",
    "svi(model, guide, obs, num_steps = 1000)\n",
    "\n",
    "#Print results    \n",
    "print(\"Posterior Temperature Mean\")\n",
    "print(dist.Normal(pyro.param(\"mean\").item(), pyro.param(\"scale\").item()))\n",
    "print(\"\")\n",
    "print(\"Posterior Humidity Mean\")\n",
    "print(dist.Normal(pyro.param(\"meanH\").item(), pyro.param(\"scaleH\").item()))\n",
    "print(\"\")\n",
    "print(\"Posterior Alpha\")\n",
    "print(dist.Normal(pyro.param(\"alpha_mean\").item(), pyro.param(\"alpha_scale\").item()))\n",
    "print(\"\")\n",
    "print(\"Posterior Beta\")\n",
    "print(dist.Normal(pyro.param(\"beta_mean\").item(), pyro.param(\"beta_scale\").item()))\n",
    "print(\"\")\n",
    "print(\"Posterior Gamma\")\n",
    "print(dist.Normal(pyro.param(\"gamma_mean\").item(), pyro.param(\"gamma_scale\").item()))"
   ]
  },
  {
   "cell_type": "markdown",
   "metadata": {
    "id": "NCld6GJGL-05"
   },
   "source": [
    "<img src=\"https://github.com/PGM-Lab/probai-2021-pyro/blob/main/Day1/Figures/blue.png?raw=1\" alt=\"Drawing\" width=2000 height=20>\n",
    "\n",
    "# 5.  **Temporal Models**\n",
    "\n",
    "If we think there is a temporal dependency between the variables, we can easily encode that with PPLs. \n",
    "\n",
    "---\n",
    "* Let us assume that there is a **temporal dependency** between the variables.\n",
    "\n",
    "* E.g. the current **real temperature must be similar to the real temperature in the previous time step**.\n",
    "\n",
    "* This temporal dependency can **be modeled** using a **for-loop** in Pyro\n",
    "\n",
    "* Consider the **graphical representation**.\n",
    "---\n",
    "\n",
    "\n",
    "<img src=\"https://github.com/PGM-Lab/probai-2021-pyro/raw/main/Day1/Figures/tempmodel-temporal-III.png\" alt=\"Drawing\" style=\"width: 350px;\" >\n",
    "\n"
   ]
  },
  {
   "cell_type": "code",
   "execution_count": 83,
   "metadata": {
    "id": "dSzU0cWeL-05"
   },
   "outputs": [],
   "source": [
    "#The observatons   \n",
    "obs = {'sensor': torch.tensor([18., 18.7, 19.2, 17.8, 20.3, 22.4, 20.3, 21.2, 19.5, 20.1])}\n",
    "\n",
    "# Even when a random variable `theta` appears in the picture\n",
    "# in this model is not considered\n",
    "def model(obs):\n",
    "    mean_temp = pyro.sample('mean_temp', dist.Normal(15.0, 2.0))\n",
    "    for i in range(obs['sensor'].shape[0]):\n",
    "        if i == 0:\n",
    "            temp = pyro.sample(f'temp_{i}', dist.Normal(mean_temp, 2.0))\n",
    "        else:\n",
    "            temp = pyro.sample(f'temp_{i}', dist.Normal(prev_temp, 2.0))\n",
    "        sensor = pyro.sample(f'sensor_{i}', dist.Normal(temp, 1.0), obs = obs['sensor'][i])\n",
    "        prev_temp = temp"
   ]
  },
  {
   "cell_type": "markdown",
   "metadata": {
    "id": "EAnXvUqpJCm1"
   },
   "source": [
    "<img src=\"https://github.com/PGM-Lab/probai-2021-pyro/blob/main/Day1/Figures/blue.png?raw=1\" alt=\"Drawing\" width=2000 height=20>\n",
    "\n",
    "---\n",
    "* We run the **(variational) inference engine** and get the results.\n",
    "\n",
    "* With PPLs, we only care about modeling, **not about the low-level details** of the machine-learning solver.\n",
    "\n",
    "---"
   ]
  },
  {
   "cell_type": "code",
   "execution_count": 84,
   "metadata": {
    "cellView": "form",
    "id": "7XaW4rKXL-05"
   },
   "outputs": [],
   "source": [
    "#@title\n",
    "#Define the guide\n",
    "def guide(obs):\n",
    "    # Posterior for `mean_temp`\n",
    "    mean = pyro.param(\"mean\", torch.mean(obs['sensor']))\n",
    "    scale = pyro.param(\"scale\", torch.tensor(1.), constraint = constraints.positive)\n",
    "    mean_temp = pyro.sample('mean_temp', dist.Normal(mean, scale))\n",
    "    \n",
    "    for i in range(obs['sensor'].shape[0]):\n",
    "        mean_i = pyro.param(f'mean_{i}', obs['sensor'][i])\n",
    "        scale_i = pyro.param(f'scale_{i}', torch.tensor(1.), constraint = constraints.positive)\n",
    "        temp = pyro.sample(f'temp_{i}', dist.Normal(mean_i, scale_i))"
   ]
  },
  {
   "cell_type": "code",
   "execution_count": 85,
   "metadata": {
    "colab": {
     "base_uri": "https://localhost:8080/"
    },
    "id": "XWBFc6w3L-06",
    "outputId": "95a134d4-da55-4aa6-9cab-3e17a03f8ad5"
   },
   "outputs": [
    {
     "name": "stdout",
     "output_type": "stream",
     "text": [
      "Step: 0. Loss: 27.260587334632874\n",
      "Step: 250. Loss: 22.9715935587883\n",
      "Step: 500. Loss: 25.857170820236206\n",
      "Step: 750. Loss: 21.623638093471527\n",
      "Step: 1000. Loss: 21.87017470598221\n",
      "Step: 1250. Loss: 20.415920794010162\n",
      "Step: 1500. Loss: 19.285376250743866\n",
      "Step: 1750. Loss: 18.978263318538666\n",
      "Finished\n"
     ]
    }
   ],
   "source": [
    "import time\n",
    "        \n",
    "#Run inference\n",
    "svi(model, guide, obs, num_steps = 2000)\n",
    "\n",
    "smooth_temp = []\n",
    "for i in range(obs['sensor'].shape[0]):\n",
    "    smooth_temp.append(pyro.param(f'mean_{i}').item())\n",
    "\n",
    "print('Finished')"
   ]
  },
  {
   "cell_type": "markdown",
   "metadata": {},
   "source": [
    "# A HUGE WARNING\n",
    "dictionary `obs` is modified after inference"
   ]
  },
  {
   "cell_type": "code",
   "execution_count": 88,
   "metadata": {},
   "outputs": [
    {
     "name": "stdout",
     "output_type": "stream",
     "text": [
      "{'sensor': tensor([18.3548, 18.6558, 18.8544, 18.9672, 20.1754, 21.1760, 20.8995, 20.6034,\n",
      "        20.0766, 20.0708])}\n",
      "Somewhere during the inference process it gets modified\n",
      "Not cool!\n"
     ]
    }
   ],
   "source": [
    "# AND NOW LET'S PRINT THE DICTIONARY `obs` defined above\n",
    "print(obs)\n",
    "print('Somewhere during the inference process it gets modified')\n",
    "print('Not cool!')"
   ]
  },
  {
   "cell_type": "markdown",
   "metadata": {
    "id": "OJHqOj3VL-06"
   },
   "source": [
    "---\n",
    "* Plot the **observed measurements** of the temperature **against** the inferred **real temperature**.\n",
    "\n",
    "* By querying the **local hidden** we can **smooth** the temperature.\n",
    "\n",
    "* The **recovered temperature** is much less noisy than the measured one. \n",
    "---\n"
   ]
  },
  {
   "cell_type": "code",
   "execution_count": 90,
   "metadata": {
    "colab": {
     "base_uri": "https://localhost:8080/",
     "height": 283
    },
    "id": "cesOfH6UL-06",
    "outputId": "6c29c1dc-7b66-4476-f572-fcab827cb85d"
   },
   "outputs": [
    {
     "data": {
      "text/plain": [
       "<matplotlib.legend.Legend at 0x10f1c85ef40>"
      ]
     },
     "execution_count": 90,
     "metadata": {},
     "output_type": "execute_result"
    },
    {
     "data": {
      "image/png": "[encoded data removed]",
      "text/plain": [
       "<Figure size 432x288 with 1 Axes>"
      ]
     },
     "metadata": {
      "needs_background": "light"
     },
     "output_type": "display_data"
    }
   ],
   "source": [
    "# HARD-CODED DUE TO THE MODIFICATION OF `obs` AFTER INFERENCE\n",
    "plt.plot([18., 18.7, 19.2, 17.8, 20.3, 22.4, 20.3, 21.2, 19.5, 20.1], label = 'Sensor Temp (Observed)')\n",
    "plt.plot(smooth_temp, label = 'Smooth Temp (Inferred)')\n",
    "plt.legend()"
   ]
  },
  {
   "cell_type": "markdown",
   "metadata": {
    "id": "yRDQWC-vL-06"
   },
   "source": [
    "<img src=\"https://github.com/PGM-Lab/probai-2021-pyro/blob/main/Day1/Figures/blue.png?raw=1\" alt=\"Drawing\" width=2000 height=20>\n",
    "\n",
    "### <span style=\"color:red\">Exercise 3:  Temporal Extension of the Iceacream shop model </span> \n",
    "\n",
    "--- \n",
    "* **Extends** Excersise 2.\n",
    "* Assume temperature depends of the **temperature in the previous day**.\n",
    "* Assume humidity depends of the **humidity in the previous day**.\n",
    "* Assume sales depends on the **current temperature and humidity**.\n",
    "* Use the following **graphical representation for reference**.\n",
    "* Consider here that the plate representation has to be coded in Pyro using a **``for-loop``**.\n",
    "\n",
    "---\n",
    "\n",
    "<img src=\"https://github.com/PGM-Lab/probai-2021-pyro/raw/main/Day1/Figures/icecream-model-temporal.png\" alt=\"Drawing\" width=500 >\n",
    "\n",
    "\n"
   ]
  },
  {
   "cell_type": "code",
   "execution_count": 95,
   "metadata": {
    "id": "GevI9bcjL-07"
   },
   "outputs": [],
   "source": [
    "#The observatons   \n",
    "obs = {'sensor': torch.tensor([18., 18.7, 19.2, 17.8, 20.3, 22.4, 20.3, 21.2, 19.5, 20.1]),\n",
    "       'sales': torch.tensor([46., 47., 49., 44., 50., 54., 51., 52., 49., 53.]),\n",
    "       'sensor_humidity': torch.tensor([82.8, 87.6, 69.1, 74.2, 80.3, 94.2, 91.2, 92.2, 99.1, 93.2])}\n",
    "\n",
    "def model(obs):\n",
    "    mean_temp = pyro.sample('mean_temp', dist.Normal(15.0, 2.0))\n",
    "    ## Introduce a random variable \"mean_humidity\"\n",
    "    mean_humidity = pyro.sample('mean_humidity', dist.Normal(80.0, 5.0))\n",
    "\n",
    "    alpha = pyro.sample('alpha', dist.Normal(0.0, 100.0))\n",
    "    beta = pyro.sample('beta', dist.Normal(0.0, 100.0))\n",
    "    ## Introduce a coefficient for the humidity \"gamma\"\n",
    "    gamma = pyro.sample('gamma', dist.Normal(0.0, 100.0))\n",
    "\n",
    "    for i in range(obs['sensor'].shape[0]):\n",
    "        if i == 0:\n",
    "            temp = pyro.sample(f'temp_{i}', dist.Normal(mean_temp, 2.0))\n",
    "            #Introduce the 'humidity' variable at time 0.\n",
    "            humidity = pyro.sample(f'humidity_{i}', dist.Normal(mean_humidity, 2.0))\n",
    "        else:\n",
    "            temp = pyro.sample(f'temp_{i}', dist.Normal(prev_temp, 2.0))\n",
    "            #Introduce the f'humidity_{i}' variable defining the transition\n",
    "            humidity = pyro.sample(f'humidity_{i}', dist.Normal(prev_humidity, 2.0))\n",
    "            \n",
    "        sensor = pyro.sample(f'sensor_{i}', dist.Normal(temp, 1.0), obs = obs['sensor'][i])\n",
    "        #Introduce the f'sensor_humidity_{i}' variable. \n",
    "        sensor_humidity = pyro.sample(f'sensor_humidity_{i}', dist.Normal(humidity, 1.0), obs = obs['sensor_humidity'][i])\n",
    "\n",
    "        #Add the linear dependency for the rate with respect to temp and humidity (keep torch.max to avoid numerical stability issues)\n",
    "        rate = torch.max(torch.tensor(0.01), alpha + beta * temp + gamma * humidity)\n",
    "        sales = pyro.sample(f'sales_{i}', dist.Poisson(rate), obs = obs['sales'][i])\n",
    "        prev_temp = temp\n",
    "        #Keep humidity for the next time step. \n",
    "        prev_humidity = humidity"
   ]
  },
  {
   "cell_type": "markdown",
   "metadata": {
    "id": "BOo487l4L3L1"
   },
   "source": [
    "<img src=\"https://github.com/PGM-Lab/probai-2021-pyro/blob/main/Day1/Figures/blue.png?raw=1\" alt=\"Drawing\" width=2000 height=20>\n",
    "\n",
    "---\n",
    "* We run the **(variational) inference engine** and get the results.\n",
    "\n",
    "* With PPLs, we only care about modeling, **not about the low-level details** of the machine-learning solver.\n",
    "\n",
    "---"
   ]
  },
  {
   "cell_type": "code",
   "execution_count": 96,
   "metadata": {
    "id": "izRFQ0T3L-07"
   },
   "outputs": [],
   "source": [
    "#@title\n",
    "#Define the guide\n",
    "def guide(obs):\n",
    "    mean = pyro.param(\"mean\", torch.mean(obs['sensor']))\n",
    "    scale = pyro.param(\"scale\", torch.tensor(1.), constraint=constraints.greater_than(0.01))\n",
    "    mean_temp = pyro.sample('mean_temp', dist.Normal(mean, scale))\n",
    "\n",
    "    meanH = pyro.param(\"meanH\", torch.mean(obs['sensor_humidity']), constraint=constraints.positive)\n",
    "    scaleH = pyro.param(\"scaleH\", torch.tensor(1.), constraint=constraints.greater_than(0.01))\n",
    "    humidity_mean = pyro.sample('mean_humidity', dist.Normal(meanH, scaleH))\n",
    "\n",
    "\n",
    "    alpha_mean = pyro.param(\"alpha_mean\", torch.mean(obs['sensor']))\n",
    "    alpha_scale = pyro.param(\"alpha_scale\", torch.tensor(1.), constraint=constraints.greater_than(0.01))\n",
    "    alpha = pyro.sample('alpha', dist.Normal(alpha_mean, alpha_scale))\n",
    "\n",
    "    beta_mean = pyro.param(\"beta_mean\", torch.tensor(0.0))\n",
    "    beta_scale = pyro.param(\"beta_scale\", torch.tensor(1.), constraint=constraints.greater_than(0.01))\n",
    "    beta = pyro.sample('beta', dist.Normal(beta_mean, beta_scale))\n",
    "\n",
    "    gamma_mean = pyro.param(\"gamma_mean\", torch.tensor(0.0))\n",
    "    gamma_scale = pyro.param(\"gamma_scale\", torch.tensor(1.), constraint=constraints.greater_than(0.01))\n",
    "    gamma = pyro.sample('gamma', dist.Normal(gamma_mean, gamma_scale))\n",
    "\n",
    "    for i in range(obs['sensor'].shape[0]):\n",
    "        mean_i = pyro.param(f'mean_{i}', obs['sensor'][i])\n",
    "        scale_i = pyro.param(f'scale_{i}', torch.tensor(1.), constraint=constraints.greater_than(0.01))\n",
    "        temp = pyro.sample(f'temp_{i}', dist.Normal(mean_i, scale_i))\n",
    "        meanH_i = pyro.param(f'meanH_{i}', obs['sensor_humidity'][i])\n",
    "        scaleH_i = pyro.param(f'scaleH_{i}', torch.tensor(1.), constraint=constraints.greater_than(0.01))\n",
    "        humidity_i = pyro.sample(f'humidity_{i}', dist.Normal(meanH_i, scaleH_i))"
   ]
  },
  {
   "cell_type": "code",
   "execution_count": 97,
   "metadata": {
    "colab": {
     "base_uri": "https://localhost:8080/"
    },
    "id": "tMWwy2UNL-07",
    "outputId": "ea74d3c1-275a-453f-8397-3830e3158d65"
   },
   "outputs": [
    {
     "name": "stdout",
     "output_type": "stream",
     "text": [
      "Step: 0. Loss: 211.0501967072487\n",
      "Step: 250. Loss: 154.10122632980347\n",
      "Step: 500. Loss: 130.0249564051628\n",
      "Step: 750. Loss: 114.7251324057579\n",
      "Step: 1000. Loss: 122.69076371192932\n",
      "Step: 1250. Loss: 134.14074671268463\n",
      "Step: 1500. Loss: 111.70880776643753\n",
      "Step: 1750. Loss: 101.93360096216202\n",
      "Finished\n"
     ]
    }
   ],
   "source": [
    "import time\n",
    "        \n",
    "#Run inference\n",
    "svi(model, guide, obs, num_steps=2000)\n",
    "\n",
    "smooth_temp=[]\n",
    "smooth_humidity=[]\n",
    "\n",
    "for i in range(obs['sensor'].shape[0]):\n",
    "    smooth_temp.append(pyro.param(f'mean_{i}').item())\n",
    "    smooth_humidity.append(pyro.param(f'meanH_{i}').item())\n",
    "\n",
    "print('Finished')"
   ]
  },
  {
   "cell_type": "markdown",
   "metadata": {
    "id": "LosM2wXBMAFX"
   },
   "source": [
    "<img src=\"https://github.com/PGM-Lab/probai-2021-pyro/blob/main/Day1/Figures/blue.png?raw=1\" alt=\"Drawing\" width=2000 height=20>\n",
    "\n",
    "---\n",
    "* We can plot the observered measurements of the temperature against the **inferred real temperature** by our model. \n",
    "\n",
    "* The **recovered temperature** is much less noisy than the real one.\n",
    "\n",
    "---\n"
   ]
  },
  {
   "cell_type": "code",
   "execution_count": 98,
   "metadata": {
    "colab": {
     "base_uri": "https://localhost:8080/",
     "height": 282
    },
    "id": "7kr1dbx-L-07",
    "outputId": "7e4e5df6-d9da-4a94-a87e-18f4899b1119"
   },
   "outputs": [
    {
     "data": {
      "text/plain": [
       "<matplotlib.legend.Legend at 0x10f1d090670>"
      ]
     },
     "execution_count": 98,
     "metadata": {},
     "output_type": "execute_result"
    },
    {
     "data": {
      "image/png": "[encoded data removed]",
      "text/plain": [
       "<Figure size 432x288 with 1 Axes>"
      ]
     },
     "metadata": {
      "needs_background": "light"
     },
     "output_type": "display_data"
    }
   ],
   "source": [
    "plt.plot([18., 18.7, 19.2, 17.8, 20.3, 22.4, 20.3, 21.2, 19.5, 20.1], label='Sensor Temp')\n",
    "plt.plot(smooth_temp, label='Smooth Temp')\n",
    "plt.legend()"
   ]
  },
  {
   "cell_type": "markdown",
   "metadata": {
    "id": "QStTTd9nN56M"
   },
   "source": [
    "---\n",
    "* We can plot the observered measurements of the humidity against the **inferred real humidity** by our model. \n",
    "\n",
    "* The **recovered humidity** is much less noisy than the real one.\n",
    "\n",
    "---\n"
   ]
  },
  {
   "cell_type": "code",
   "execution_count": 99,
   "metadata": {
    "colab": {
     "base_uri": "https://localhost:8080/",
     "height": 282
    },
    "id": "WD7n3v9oL-08",
    "outputId": "552faaeb-89bd-4766-e80e-cb330d78e51d"
   },
   "outputs": [
    {
     "data": {
      "text/plain": [
       "<matplotlib.legend.Legend at 0x10f1d204940>"
      ]
     },
     "execution_count": 99,
     "metadata": {},
     "output_type": "execute_result"
    },
    {
     "data": {
      "image/png": "[encoded data removed]",
      "text/plain": [
       "<Figure size 432x288 with 1 Axes>"
      ]
     },
     "metadata": {
      "needs_background": "light"
     },
     "output_type": "display_data"
    }
   ],
   "source": [
    "humidity = torch.tensor([82.8, 87.6, 69.1, 74.2, 80.3, 94.2, 91.2, 92.2, 99.1, 93.2])\n",
    "plt.plot(humidity.detach().numpy(), label='Sensor Humidity')\n",
    "plt.plot(smooth_humidity, label='Smooth Humidity')\n",
    "plt.legend()"
   ]
  },
  {
   "cell_type": "markdown",
   "metadata": {
    "id": "858lPsjJOTJd"
   },
   "source": [
    "<img src=\"https://github.com/PGM-Lab/probai-2021-pyro/blob/main/Day1/Figures/blue.png?raw=1\" alt=\"Drawing\" width=2000 height=20>\n"
   ]
  }
 ],
 "metadata": {
  "colab": {
   "include_colab_link": true,
   "name": "students_PPLs_Intro.ipynb",
   "provenance": []
  },
  "kernelspec": {
   "display_name": "Python 3",
   "language": "python",
   "name": "python3"
  },
  "language_info": {
   "codemirror_mode": {
    "name": "ipython",
    "version": 3
   },
   "file_extension": ".py",
   "mimetype": "text/x-python",
   "name": "python",
   "nbconvert_exporter": "python",
   "pygments_lexer": "ipython3",
   "version": "3.8.5"
  }
 },
 "nbformat": 4,
 "nbformat_minor": 4
}
