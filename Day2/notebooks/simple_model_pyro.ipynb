{
 "cells": [
  {
   "cell_type": "code",
   "execution_count": 1,
   "id": "f7811e9c-8035-4e38-9ec3-d38ec09b387c",
   "metadata": {},
   "outputs": [],
   "source": [
    "# TO AVOID KERNEL DYING WHEN PLOTTING (THIS IS A WINDOWS PARTICULAR PROBLEM)\n",
    "import os\n",
    "os.environ[\"KMP_DUPLICATE_LIB_OK\"]=\"TRUE\""
   ]
  },
  {
   "cell_type": "code",
   "execution_count": 2,
   "id": "3d5c9c7b-bbf6-4537-b6ee-1b552b56e9a4",
   "metadata": {},
   "outputs": [],
   "source": [
    "import pyro\n",
    "import torch\n",
    "import numpy as np\n",
    "from pyro.optim import SGD\n",
    "from pyro.infer import Trace_ELBO\n",
    "import pyro.distributions as dist\n",
    "import torch.distributions.constraints as constraints\n",
    "import matplotlib.pyplot as plt"
   ]
  },
  {
   "cell_type": "code",
   "execution_count": 80,
   "id": "54440a04-cf68-4111-b63f-1a7a3a4e74f8",
   "metadata": {},
   "outputs": [],
   "source": [
    "# Define priors\n",
    "alpha_prior, beta_prior = 1E-2, 1E-2   # Parameters for the prior for the precision of x\n",
    "tau_prior = 1E-6  # A priori precision for the precision of mu\n",
    "\n",
    "# Sample data\n",
    "np.random.seed(123)\n",
    "N = 200 # FOR SVI WE NEED MORE DATA THAN USING EXACT CLOSED SOLUTIONS FOR UPDATING THE POSTERIOR PARAMETERS\n",
    "correct_mean = 5\n",
    "correct_precision = 1\n",
    "# Observations must be in a tensor\n",
    "obs = np.random.normal(loc = correct_mean, scale = 1/np.sqrt(correct_precision), size = N)\n",
    "obs = torch.tensor(obs)"
   ]
  },
  {
   "cell_type": "code",
   "execution_count": 81,
   "id": "b2d3b2ae-59c8-4d77-b340-501514785066",
   "metadata": {},
   "outputs": [],
   "source": [
    "# Define the model\n",
    "def model(obs):\n",
    "    # Priors\n",
    "    mu = pyro.sample(\"mu\", dist.Normal(loc = 0.0, scale = 1 / tau_prior))\n",
    "    gamma = pyro.sample(\"gamma\", dist.Gamma(alpha_prior, beta_prior))\n",
    "    \n",
    "    with pyro.plate(\"plate\", obs.shape[0]):\n",
    "        x = pyro.sample(\"x\", dist.Normal(loc = mu, scale = 1 / gamma), obs = obs)\n",
    "    return x"
   ]
  },
  {
   "cell_type": "code",
   "execution_count": 82,
   "id": "26601957-1c20-41d4-b17f-7a15399e08e4",
   "metadata": {},
   "outputs": [],
   "source": [
    "# Define the guide (variational distributions)\n",
    "def guide(obs):\n",
    "    # Learnable parameters for the posterior of `mu`\n",
    "    mu_loc = pyro.param('mu_loc', torch.tensor(0.))\n",
    "    mu_scale = pyro.param('mu_scale', torch.tensor(1.), constraint = constraints.positive)\n",
    "    # Variational posterior for mu\n",
    "    mu = pyro.sample('mu', dist.Normal(loc = mu_loc, scale = mu_scale))\n",
    "    \n",
    "    # Learnable parameters for the posterior of `gamma`\n",
    "    gamma_alpha = pyro.param('gamma_alpha', torch.tensor(1.0), constraint = constraints.positive)\n",
    "    gamma_beta = pyro.param('gamma_beta', torch.tensor(1.0), constraint = constraints.positive)\n",
    "    # To avoid numerical problems\n",
    "    gamma_alpha = torch.max(torch.tensor(0.001), gamma_alpha)\n",
    "    gamma_beta = torch.max(torch.tensor(0.001), gamma_beta)\n",
    "    gamma = pyro.sample('gamma', dist.Gamma(gamma_alpha, gamma_beta))\n",
    "    \n",
    "    return mu,gamma"
   ]
  },
  {
   "cell_type": "code",
   "execution_count": 83,
   "id": "ae9c47d8-392a-4279-953a-23fbcff447cb",
   "metadata": {},
   "outputs": [],
   "source": [
    "# Inference routine (Stochastic Variational Inference)\n",
    "\n",
    "def svi(model, guide, obs, loss, optim_par, num_steps = 1000):\n",
    "    pyro.clear_param_store()\n",
    "    infer_engine = pyro.infer.SVI(model = model,\n",
    "                                 guide = guide,\n",
    "                                 optim = SGD(optim_par),\n",
    "                                 loss = loss())\n",
    "    \n",
    "    losses = np.zeros(num_steps)\n",
    "    for t in range(num_steps):\n",
    "        losses[t] = infer_engine.step(obs)\n",
    "        if t % 250 == 0:\n",
    "            print(f'Step = {t}. Loss = {losses[t]}')\n",
    "    \n",
    "    return losses"
   ]
  },
  {
   "cell_type": "code",
   "execution_count": 84,
   "id": "658b901e-a6e3-4520-873d-ce98d2fcd4f5",
   "metadata": {},
   "outputs": [
    {
     "name": "stdout",
     "output_type": "stream",
     "text": [
      "Step = 0. Loss = 1286.3219351301777\n",
      "Step = 250. Loss = 318.8543144694025\n"
     ]
    }
   ],
   "source": [
    "# Parameters for optimiser\n",
    "optim_par = {'lr': 0.001, 'momentum' : 0.1}\n",
    "num_steps = 300\n",
    "losses = svi(model, guide, obs, Trace_ELBO, optim_par, num_steps = num_steps)"
   ]
  },
  {
   "cell_type": "code",
   "execution_count": 85,
   "id": "4b41e2ab-8cb2-43d6-ab58-a7db5287ff5f",
   "metadata": {},
   "outputs": [
    {
     "data": {
      "image/png": "[encoded data removed]",
      "text/plain": [
       "<Figure size 432x288 with 1 Axes>"
      ]
     },
     "metadata": {
      "needs_background": "light"
     },
     "output_type": "display_data"
    }
   ],
   "source": [
    "plt.plot(losses)\n",
    "plt.xlabel('Step')\n",
    "plt.ylabel('TRACE ELBO')\n",
    "plt.title('Loss function')\n",
    "plt.grid()\n",
    "plt.show()"
   ]
  },
  {
   "cell_type": "code",
   "execution_count": 86,
   "id": "d9527dc9-a3ba-4f2a-96b2-88c199b1da84",
   "metadata": {},
   "outputs": [
    {
     "name": "stdout",
     "output_type": "stream",
     "text": [
      "The posterior for mu is N(4.93988561630249, 0.11863119155168533)\n",
      "The posterior for gamma is Gamma(34.96537399291992, 39.676998138427734)\n",
      "Expected value for mu is 4.93988561630249\n",
      "Expected value for Gamma is 0.8812505006790161\n"
     ]
    }
   ],
   "source": [
    "print(f'The posterior for mu is N({pyro.param(\"mu_loc\")}, {pyro.param(\"mu_scale\")})')\n",
    "print(f'The posterior for gamma is Gamma({pyro.param(\"gamma_alpha\")}, {pyro.param(\"gamma_beta\")})')\n",
    "print(f'Expected value for mu is {pyro.param(\"mu_loc\")}')\n",
    "print(f'Expected value for Gamma is {pyro.param(\"gamma_alpha\") / pyro.param(\"gamma_beta\") }')"
   ]
  },
  {
   "cell_type": "code",
   "execution_count": null,
   "id": "d5ee7049-c4de-4bf8-a577-58a6866db44a",
   "metadata": {},
   "outputs": [],
   "source": []
  },
  {
   "cell_type": "code",
   "execution_count": null,
   "id": "e2e9f6f6-759e-49ca-8273-c5445153dfd9",
   "metadata": {},
   "outputs": [],
   "source": []
  }
 ],
 "metadata": {
  "kernelspec": {
   "display_name": "Python 3",
   "language": "python",
   "name": "python3"
  },
  "language_info": {
   "codemirror_mode": {
    "name": "ipython",
    "version": 3
   },
   "file_extension": ".py",
   "mimetype": "text/x-python",
   "name": "python",
   "nbconvert_exporter": "python",
   "pygments_lexer": "ipython3",
   "version": "3.8.5"
  }
 },
 "nbformat": 4,
 "nbformat_minor": 5
}
